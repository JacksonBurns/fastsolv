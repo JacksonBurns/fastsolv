{
 "cells": [
  {
   "cell_type": "code",
   "execution_count": 1,
   "metadata": {},
   "outputs": [
    {
     "name": "stderr",
     "output_type": "stream",
     "text": [
      "/home/jackson/miniconda3/envs/fastsolv/lib/python3.11/site-packages/tqdm/auto.py:21: TqdmWarning: IProgress not found. Please update jupyter and ipywidgets. See https://ipywidgets.readthedocs.io/en/stable/user_install.html\n",
      "  from .autonotebook import tqdm as notebook_tqdm\n"
     ]
    }
   ],
   "source": [
    "from pathlib import Path\n",
    "\n",
    "from tqdm import tqdm\n",
    "import torch\n",
    "import pandas as pd\n",
    "import numpy as np\n",
    "import shap\n",
    "import matplotlib.pyplot as plt\n",
    "from fastsolv._module import _ALL_MODELS, _DESCRIPTOR_COLUMNS\n",
    "from fastprop.data import standard_scale\n",
    "\n",
    "# for compatibility with shap\n",
    "for model in _ALL_MODELS:\n",
    "    model.fnn.pop(0)\n",
    "    model.fnn.pop(0)\n",
    "# we remove the concatenation module, which we instead do manually here\n",
    "# and the clamp module which is unsupported by SHAP"
   ]
  },
  {
   "cell_type": "code",
   "execution_count": 2,
   "metadata": {},
   "outputs": [],
   "source": [
    "test_df = pd.read_csv(Path(\"../data/vermeire/solprop_fastprop_nonaq.csv\"))"
   ]
  },
  {
   "cell_type": "code",
   "execution_count": 3,
   "metadata": {},
   "outputs": [],
   "source": [
    "# need between 100 and 1000 samples to get a good estimate of the SHAP values\n",
    "test_df = test_df.sample(n=2000, random_state=0)"
   ]
  },
  {
   "cell_type": "code",
   "execution_count": 4,
   "metadata": {},
   "outputs": [],
   "source": [
    "inputs = torch.tensor(test_df[_DESCRIPTOR_COLUMNS + [\"temperature\"]].to_numpy(), dtype=torch.float32)\n",
    "targets = torch.tensor(test_df[\"solubility\"], dtype=torch.float32)\n",
    "# we will use half of the data for 'integrating', and the other half for getting shap values\n",
    "halfway_idx = inputs.shape[0] // 2"
   ]
  },
  {
   "cell_type": "code",
   "execution_count": 5,
   "metadata": {},
   "outputs": [
    {
     "name": "stderr",
     "output_type": "stream",
     "text": [
      "Calculating SHAP values for each model: 100%|██████████| 4/4 [00:55<00:00, 13.76s/it]\n"
     ]
    }
   ],
   "source": [
    "# shap terminology explanation:\n",
    "# background: 100 to 1000 random samples from the training data\n",
    "# X: 100+ other samples\n",
    "# run shap on each of these models, then average the results\n",
    "per_model_shap = []\n",
    "for model in tqdm(_ALL_MODELS, desc=\"Calculating SHAP values for each model\"):\n",
    "    # now scale and send the data to whatever device lightning put the model on\n",
    "    X = inputs.to(model.device)\n",
    "    solute_features, solvent_features, temperature = X[:, 0:1613], X[:, 1613:1613+1613], X[:, 1613+1613]  # batch 1 is solubility\n",
    "    solute_features = standard_scale(solute_features, model.solute_means, model.solute_vars)\n",
    "    solvent_features = standard_scale(solvent_features, model.solvent_means, model.solvent_vars)\n",
    "    temperature = standard_scale(temperature, model.temperature_means, model.temperature_vars)\n",
    "    scaled_X = torch.cat((solute_features, solvent_features, temperature[:, None]), dim=1)\n",
    "    scaled_X.clamp_(min=-3.0, max=3.0)\n",
    "    e = shap.DeepExplainer(model, scaled_X[:halfway_idx])\n",
    "    model_shap_values = e.shap_values(scaled_X[halfway_idx:])\n",
    "    # returns a list for multi-target problems, cast for uniformity\n",
    "    if not isinstance(model_shap_values, list):\n",
    "        model_shap_values = [model_shap_values]\n",
    "    per_model_shap.append(model_shap_values)\n",
    "all_shap_values = np.mean(np.array(per_model_shap), axis=0)"
   ]
  },
  {
   "cell_type": "code",
   "execution_count": 21,
   "metadata": {},
   "outputs": [
    {
     "ename": "AttributeError",
     "evalue": "'bool' object has no attribute 'shape'",
     "output_type": "error",
     "traceback": [
      "\u001b[0;31m---------------------------------------------------------------------------\u001b[0m",
      "\u001b[0;31mAttributeError\u001b[0m                            Traceback (most recent call last)",
      "Cell \u001b[0;32mIn[21], line 18\u001b[0m\n\u001b[1;32m     15\u001b[0m plt\u001b[38;5;241m.\u001b[39mcla()\n\u001b[1;32m     16\u001b[0m \u001b[38;5;66;03m# _ = shap.plots.beeswarm(explanation, max_display=include_idx + 1, color_bar=False, color=\"shap_red\", show=False)\u001b[39;00m\n\u001b[1;32m     17\u001b[0m \u001b[38;5;66;03m# _ = shap.plots.bar(explanation, max_display=include_idx + 1, show=False)\u001b[39;00m\n\u001b[0;32m---> 18\u001b[0m _ \u001b[38;5;241m=\u001b[39m \u001b[43mshap\u001b[49m\u001b[38;5;241;43m.\u001b[39;49m\u001b[43mplots\u001b[49m\u001b[38;5;241;43m.\u001b[39;49m\u001b[43mbar\u001b[49m\u001b[43m(\u001b[49m\u001b[43mexplanation\u001b[49m\u001b[43m,\u001b[49m\u001b[43m \u001b[49m\u001b[43mmax_display\u001b[49m\u001b[38;5;241;43m=\u001b[39;49m\u001b[43minclude_idx\u001b[49m\u001b[43m \u001b[49m\u001b[38;5;241;43m+\u001b[39;49m\u001b[43m \u001b[49m\u001b[38;5;241;43m1\u001b[39;49m\u001b[43m,\u001b[49m\u001b[43m \u001b[49m\u001b[43mshow\u001b[49m\u001b[38;5;241;43m=\u001b[39;49m\u001b[38;5;28;43;01mFalse\u001b[39;49;00m\u001b[43m,\u001b[49m\u001b[43m \u001b[49m\u001b[43mclustering\u001b[49m\u001b[38;5;241;43m=\u001b[39;49m\u001b[38;5;28;43;01mTrue\u001b[39;49;00m\u001b[43m)\u001b[49m\n\u001b[1;32m     19\u001b[0m \u001b[38;5;66;03m# _ = shap.plots.heatmap(explanation, max_display=include_idx + 1, show=False)\u001b[39;00m\n\u001b[1;32m     20\u001b[0m out_fname \u001b[38;5;241m=\u001b[39m \u001b[38;5;124m\"\u001b[39m\u001b[38;5;124mfeature_importance_beeswarm.png\u001b[39m\u001b[38;5;124m\"\u001b[39m\n",
      "File \u001b[0;32m~/miniconda3/envs/fastsolv/lib/python3.11/site-packages/shap/plots/_bar.py:117\u001b[0m, in \u001b[0;36mbar\u001b[0;34m(shap_values, max_display, order, clustering, clustering_cutoff, show_data, ax, show)\u001b[0m\n\u001b[1;32m    115\u001b[0m     partition_tree \u001b[38;5;241m=\u001b[39m clustering\n\u001b[1;32m    116\u001b[0m \u001b[38;5;28;01mif\u001b[39;00m partition_tree \u001b[38;5;129;01mis\u001b[39;00m \u001b[38;5;129;01mnot\u001b[39;00m \u001b[38;5;28;01mNone\u001b[39;00m:\n\u001b[0;32m--> 117\u001b[0m     \u001b[38;5;28;01mif\u001b[39;00m \u001b[38;5;28mlen\u001b[39m(\u001b[43mpartition_tree\u001b[49m\u001b[38;5;241;43m.\u001b[39;49m\u001b[43mshape\u001b[49m) \u001b[38;5;241m!=\u001b[39m \u001b[38;5;241m2\u001b[39m \u001b[38;5;129;01mor\u001b[39;00m partition_tree\u001b[38;5;241m.\u001b[39mshape[\u001b[38;5;241m1\u001b[39m] \u001b[38;5;241m!=\u001b[39m \u001b[38;5;241m4\u001b[39m:\n\u001b[1;32m    118\u001b[0m         \u001b[38;5;28;01mraise\u001b[39;00m \u001b[38;5;167;01mTypeError\u001b[39;00m(\n\u001b[1;32m    119\u001b[0m             \u001b[38;5;124m\"\u001b[39m\u001b[38;5;124mThe clustering provided by the Explanation object does not seem to be a \u001b[39m\u001b[38;5;124m\"\u001b[39m\n\u001b[1;32m    120\u001b[0m             \u001b[38;5;124m\"\u001b[39m\u001b[38;5;124mpartition tree, which is all shap.plots.bar supports.\u001b[39m\u001b[38;5;124m\"\u001b[39m\n\u001b[1;32m    121\u001b[0m         )\n\u001b[1;32m    122\u001b[0m op_history \u001b[38;5;241m=\u001b[39m cohort_exps[\u001b[38;5;241m0\u001b[39m]\u001b[38;5;241m.\u001b[39mop_history\n",
      "\u001b[0;31mAttributeError\u001b[0m: 'bool' object has no attribute 'shape'"
     ]
    }
   ],
   "source": [
    "# for each target, create a plot of the most important features\n",
    "importance_threshold = 0.70\n",
    "for i, target_name in enumerate((\"logS\", )):\n",
    "    shap_values = all_shap_values[i].squeeze()\n",
    "    # include features until the shap value is half the highest, aka half as important\n",
    "    avg_shaps = np.mean(np.abs(shap_values), axis=0)\n",
    "    avg_shaps, names, keep_idxs = zip(*sorted(zip(avg_shaps, _DESCRIPTOR_COLUMNS, list(range(len(avg_shaps)))), reverse=True))\n",
    "    include_idx = 0\n",
    "    for val in avg_shaps[1:]:\n",
    "        if val > avg_shaps[0] * importance_threshold:\n",
    "            include_idx += 1\n",
    "        else:\n",
    "            break\n",
    "    explanation = shap.Explanation(values=shap_values[:, keep_idxs[:include_idx]], feature_names=names[0:include_idx])\n",
    "    plt.cla()\n",
    "    # _ = shap.plots.beeswarm(explanation, max_display=include_idx + 1, color_bar=False, color=\"shap_red\", show=False)\n",
    "    # _ = shap.plots.bar(explanation, max_display=include_idx + 1, show=False)\n",
    "    clustering = shap.utils.hclust(X_adult, y_adult)\n",
    "    _ = shap.plots.bar(explanation, max_display=include_idx + 1, show=False, clustering=clustering)\n",
    "    # _ = shap.plots.heatmap(explanation, max_display=include_idx + 1, show=False)\n",
    "    out_fname = \"feature_importance_beeswarm.png\"\n",
    "    plt.savefig(out_fname, pad_inches=0.5, bbox_inches=\"tight\")"
   ]
  }
 ],
 "metadata": {
  "kernelspec": {
   "display_name": "fastsolv",
   "language": "python",
   "name": "python3"
  },
  "language_info": {
   "codemirror_mode": {
    "name": "ipython",
    "version": 3
   },
   "file_extension": ".py",
   "mimetype": "text/x-python",
   "name": "python",
   "nbconvert_exporter": "python",
   "pygments_lexer": "ipython3",
   "version": "3.11.11"
  }
 },
 "nbformat": 4,
 "nbformat_minor": 2
}
