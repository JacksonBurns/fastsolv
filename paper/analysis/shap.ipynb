{
 "cells": [
  {
   "cell_type": "code",
   "execution_count": null,
   "metadata": {},
   "outputs": [],
   "source": [
    "from pathlib import Path\n",
    "\n",
    "from tqdm import tqdm\n",
    "import torch\n",
    "import pandas as pd\n",
    "import numpy as np\n",
    "import shap\n",
    "import matplotlib.pyplot as plt\n",
    "from fastsolv._module import _ALL_MODELS, _DESCRIPTOR_COLUMNS\n",
    "from fastprop.data import standard_scale\n",
    "\n",
    "# for compatibility with shap\n",
    "for model in _ALL_MODELS:\n",
    "    model.fnn.pop(0)\n",
    "    model.fnn.pop(0)\n",
    "# we remove the concatenation module, which we instead do manually here\n",
    "# and the clamp module which is unsupported by SHAP"
   ]
  },
  {
   "cell_type": "code",
   "execution_count": 2,
   "metadata": {},
   "outputs": [],
   "source": [
    "test_df = pd.read_csv(Path(\"../data/vermeire/solprop_fastprop_nonaq.csv\"))"
   ]
  },
  {
   "cell_type": "code",
   "execution_count": 3,
   "metadata": {},
   "outputs": [],
   "source": [
    "# need between 100 and 1000 samples to get a good estimate of the SHAP values\n",
    "test_df = test_df.sample(n=2000, random_state=0)"
   ]
  },
  {
   "cell_type": "code",
   "execution_count": 4,
   "metadata": {},
   "outputs": [],
   "source": [
    "inputs = torch.tensor(test_df[_DESCRIPTOR_COLUMNS + [\"temperature\"]].to_numpy(), dtype=torch.float32)\n",
    "targets = torch.tensor(test_df[\"solubility\"], dtype=torch.float32)\n",
    "# we will use half of the data for 'integrating', and the other half for getting shap values\n",
    "halfway_idx = inputs.shape[0] // 2"
   ]
  },
  {
   "cell_type": "code",
   "execution_count": null,
   "metadata": {},
   "outputs": [],
   "source": [
    "# shap terminology explanation:\n",
    "# background: 100 to 1000 random samples from the training data\n",
    "# X: 100+ other samples\n",
    "# run shap on each of these models, then average the results\n",
    "per_model_shap = []\n",
    "for model in tqdm(_ALL_MODELS, desc=\"Calculating SHAP values for each model\"):\n",
    "    # now scale and send the data to whatever device lightning put the model on\n",
    "    X = inputs.to(model.device)\n",
    "    solute_features, solvent_features, temperature = X[:, 0:1613], X[:, 1613:1613+1613], X[:, 1613+1613]  # batch 1 is solubility\n",
    "    solute_features = standard_scale(solute_features, model.solute_means, model.solute_vars)\n",
    "    solvent_features = standard_scale(solvent_features, model.solvent_means, model.solvent_vars)\n",
    "    temperature = standard_scale(temperature, model.temperature_means, model.temperature_vars)\n",
    "    scaled_X = torch.cat((solute_features, solvent_features, temperature[:, None]), dim=1)\n",
    "    scaled_X.clamp_(min=-3.0, max=3.0)\n",
    "    e = shap.DeepExplainer(model, scaled_X[:halfway_idx])\n",
    "    model_shap_values = e.shap_values(scaled_X[halfway_idx:])\n",
    "    # returns a list for multi-target problems, cast for uniformity\n",
    "    if not isinstance(model_shap_values, list):\n",
    "        model_shap_values = [model_shap_values]\n",
    "    per_model_shap.append(model_shap_values)\n",
    "all_shap_values = np.mean(np.array(per_model_shap), axis=0)"
   ]
  },
  {
   "cell_type": "code",
   "execution_count": null,
   "metadata": {},
   "outputs": [],
   "source": [
    "# for each target, create a plot of the most important features\n",
    "importance_threshold = 0.70\n",
    "for i, target_name in enumerate((\"logS\", )):\n",
    "    shap_values = all_shap_values[i].squeeze()\n",
    "    # include features until the shap value is half the highest, aka half as important\n",
    "    avg_shaps = np.mean(np.abs(shap_values), axis=0)\n",
    "    avg_shaps, names, keep_idxs = zip(*sorted(zip(avg_shaps, _DESCRIPTOR_COLUMNS, list(range(len(avg_shaps)))), reverse=True))\n",
    "    include_idx = 0\n",
    "    for val in avg_shaps[1:]:\n",
    "        if val > avg_shaps[0] * importance_threshold:\n",
    "            include_idx += 1\n",
    "        else:\n",
    "            break\n",
    "    explanation = shap.Explanation(values=shap_values[:, keep_idxs[:include_idx]], feature_names=names[0:include_idx])\n",
    "    plt.cla()\n",
    "    # _ = shap.plots.beeswarm(explanation, max_display=include_idx + 1, color_bar=False, color=\"shap_red\", show=False)\n",
    "    _ = shap.plots.bar(explanation, max_display=include_idx + 1, show=False)\n",
    "    # _ = shap.plots.heatmap(explanation, max_display=include_idx + 1, show=False)\n",
    "    out_fname = \"shap.png\"\n",
    "    plt.savefig(out_fname, pad_inches=0.5, bbox_inches=\"tight\")"
   ]
  }
 ],
 "metadata": {
  "kernelspec": {
   "display_name": "fastsolv",
   "language": "python",
   "name": "python3"
  },
  "language_info": {
   "codemirror_mode": {
    "name": "ipython",
    "version": 3
   },
   "file_extension": ".py",
   "mimetype": "text/x-python",
   "name": "python",
   "nbconvert_exporter": "python",
   "pygments_lexer": "ipython3",
   "version": "3.11.11"
  }
 },
 "nbformat": 4,
 "nbformat_minor": 2
}
